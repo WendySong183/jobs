{
 "cells": [
  {
   "cell_type": "code",
   "execution_count": 19,
   "metadata": {
    "collapsed": true
   },
   "outputs": [],
   "source": [
    "import requests\n",
    "from bs4 import BeautifulSoup\n",
    "import pandas as pd"
   ]
  },
  {
   "cell_type": "code",
   "execution_count": 20,
   "metadata": {
    "collapsed": true
   },
   "outputs": [],
   "source": [
    "def getHTMLText(url):\n",
    "    try:\n",
    "        r = requests.get(url,headers=header,timeout = 30)\n",
    "        r.raise_for_status()\n",
    "        r.encoding = r.apparent_encoding\n",
    "        return r.text\n",
    "    except:\n",
    "        return \"\""
   ]
  },
  {
   "cell_type": "code",
   "execution_count": 30,
   "metadata": {
    "collapsed": true
   },
   "outputs": [],
   "source": [
    "def jobDetail(url):\n",
    "    soup = BeautifulSoup(getHTMLText(url),'html.parser')\n",
    "    result = {}\n",
    "    result['url'] = url\n",
    "    result['zhiwei'] = soup.select('.fixed-inner-box h1')[0].text\n",
    "    result['company'] = soup.select('.fixed-inner-box h2 a')[0].text\n",
    "    result['salary'] = soup.select('.terminalpage-left strong')[0].text.strip()\n",
    "    result['place'] = soup.select('.terminalpage-left strong')[1].text\n",
    "    result['pourtime'] = soup.select('.terminalpage-left strong')[2].text\n",
    "    result['gzxz'] = soup.select('.terminalpage-left strong')[3].text\n",
    "    result['experience'] = soup.select('.terminalpage-left strong')[4].text\n",
    "    result['edu'] = soup.select('.terminalpage-left strong')[5].text\n",
    "    result['number'] = soup.select('.terminalpage-left strong')[6].text\n",
    "    result['kind'] = soup.select('.terminalpage-left strong')[7].text\n",
    "    result['require'] = soup.select('.tab-inner-cont')[0].text.strip()\n",
    "    return result"
   ]
  },
  {
   "cell_type": "code",
   "execution_count": 31,
   "metadata": {
    "collapsed": true
   },
   "outputs": [],
   "source": [
    "def parseListjobdetail(url):\n",
    "    soup = BeautifulSoup(getHTMLText(url),'html.parser')\n",
    "    jobdetail = []\n",
    "    for p in soup.select('td.zwmc'):\n",
    "        res = p.select('a')[0]['href']\n",
    "        jobdetail.append(jobDetail(res))\n",
    "    return jobdetail"
   ]
  },
  {
   "cell_type": "code",
   "execution_count": 32,
   "metadata": {
    "collapsed": false
   },
   "outputs": [],
   "source": [
    "url = 'http://sou.zhaopin.com/jobs/searchresult.ashx?bj=160000&jl=%E6%9D%AD%E5%B7%9E&kw=%E6%95%B0%E6%8D%AE%E5%88%86%E6%9E%90&sm=0&p={}&isfilter=1&fl=653&i'\n",
    "header={'user-agent':'Mozilla/5.0 (Windows NT 10.0; Win64; x64) AppleWebKit/537.36 (KHTML, like Gecko) Chrome/60.0.3112.113 Safari/537.36'}\n",
    "job_total = []\n",
    "for i in range(1,6):\n",
    "    urlList = url.format(i)\n",
    "    joblist = parseListjobdetail(urlList)\n",
    "    job_total.extend(joblist)\n",
    "df = pd.DataFrame(job_total)\n",
    "df.to_csv('C:/Users/sww/Desktop/job1.csv')"
   ]
  },
  {
   "cell_type": "code",
   "execution_count": null,
   "metadata": {
    "collapsed": true
   },
   "outputs": [],
   "source": []
  }
 ],
 "metadata": {
  "kernelspec": {
   "display_name": "Python 3",
   "language": "python",
   "name": "python3"
  },
  "language_info": {
   "codemirror_mode": {
    "name": "ipython",
    "version": 3
   },
   "file_extension": ".py",
   "mimetype": "text/x-python",
   "name": "python",
   "nbconvert_exporter": "python",
   "pygments_lexer": "ipython3",
   "version": "3.6.0"
  }
 },
 "nbformat": 4,
 "nbformat_minor": 2
}
